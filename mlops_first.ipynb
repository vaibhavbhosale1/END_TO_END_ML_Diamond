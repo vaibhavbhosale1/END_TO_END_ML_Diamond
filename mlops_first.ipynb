{
 "cells": [
  {
   "cell_type": "code",
   "execution_count": 3,
   "metadata": {},
   "outputs": [],
   "source": [
    "# MLFLOW Working connection\n",
    "import mlflow"
   ]
  },
  {
   "cell_type": "code",
   "execution_count": 5,
   "metadata": {},
   "outputs": [],
   "source": [
    "mlflow.set_tracking_uri('http://127.0.0.1:5000')"
   ]
  },
  {
   "cell_type": "code",
   "execution_count": 8,
   "metadata": {},
   "outputs": [
    {
     "name": "stdout",
     "output_type": "stream",
     "text": [
      "🏃 View run upset-snipe-967 at: http://127.0.0.1:5000/#/experiments/283978129480349264/runs/5c06263497ba4e3084c8027138f8702f\n",
      "🧪 View experiment at: http://127.0.0.1:5000/#/experiments/283978129480349264\n"
     ]
    }
   ],
   "source": [
    "mlflow.set_experiment(\"Batch 702 MLFLOW FIRST Project\")\n",
    "with mlflow.start_run():\n",
    "    mlflow.log_metric('first_project',5)\n",
    "    mlflow.log_metric('Vaibhav',1)\n",
    "    mlflow.log_metric('Gemini',5)"
   ]
  },
  {
   "cell_type": "code",
   "execution_count": null,
   "metadata": {},
   "outputs": [],
   "source": [
    "mlflow.set_experiment(\"Project 2\")\n",
    "with mlflow.start_run():\n",
    "    mlflow.log_metric('first_project',5)\n",
    "    mlflow.log_metric('Vaibhav',1)\n",
    "    mlflow.log_metric('Gemini',5)"
   ]
  }
 ],
 "metadata": {
  "kernelspec": {
   "display_name": "Python 3",
   "language": "python",
   "name": "python3"
  },
  "language_info": {
   "codemirror_mode": {
    "name": "ipython",
    "version": 3
   },
   "file_extension": ".py",
   "mimetype": "text/x-python",
   "name": "python",
   "nbconvert_exporter": "python",
   "pygments_lexer": "ipython3",
   "version": "3.9.21"
  }
 },
 "nbformat": 4,
 "nbformat_minor": 2
}
